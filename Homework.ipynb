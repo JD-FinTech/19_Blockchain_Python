{
 "cells": [
  {
   "cell_type": "code",
   "execution_count": 32,
   "metadata": {},
   "outputs": [],
   "source": [
    "import subprocess\n",
    "import json\n",
    "from dotenv import load_dotenv\n",
    "import os\n",
    "\n",
    "from bit import Key, PrivateKey, PrivateKeyTestnet\n",
    "from bit.network import NetworkAPI\n",
    "\n",
    "from web3 import Web3\n",
    "\n",
    "from eth_account import Account"
   ]
  },
  {
   "cell_type": "code",
   "execution_count": 120,
   "metadata": {},
   "outputs": [],
   "source": [
    "load_dotenv()\n",
    "from constants import *\n",
    "w3 = Web3(Web3.HTTPProvider(\"http://127.0.0.1:8545\"))"
   ]
  },
  {
   "cell_type": "code",
   "execution_count": 34,
   "metadata": {},
   "outputs": [
    {
     "name": "stdout",
     "output_type": "stream",
     "text": [
      "orbit solution donate target dove sock paddle zone double suffer robust call\n"
     ]
    }
   ],
   "source": [
    "mnemonic = os.getenv('MNEMONIC')\n",
    "print(mnemonic)"
   ]
  },
  {
   "cell_type": "code",
   "execution_count": 71,
   "metadata": {},
   "outputs": [],
   "source": [
    "def derive_wallets(phrase, coin, numderive):\n",
    "    command = f'php derive -g --mnemonic=\"{phrase}\" --numderive={numderive} --coin={coin} --format=jsonpretty'\n",
    "    p = subprocess.Popen(command,stdout=subprocess.PIPE,shell=True)\n",
    "    (output, err) = p.communicate()\n",
    "    return json.loads(output)"
   ]
  },
  {
   "cell_type": "code",
   "execution_count": 72,
   "metadata": {},
   "outputs": [
    {
     "name": "stdout",
     "output_type": "stream",
     "text": [
      "{\n",
      "    \"btc-test\": [\n",
      "        {\n",
      "            \"address\": \"mu2db6FcX5MA339FSUzpgVkof8YWCu4k8t\",\n",
      "            \"index\": 0,\n",
      "            \"path\": \"m/44'/1'/0'/0/0\",\n",
      "            \"privkey\": \"cRqYF8ZzQd836Dqzry7uC5rzxMyJ7HdqtQfbJhRE7iiUyjZWRSgp\",\n",
      "            \"pubkey\": \"027681403d7aa5226d000575c7c1b4641a2300432c96b33574a96ef371cde7ee9a\",\n",
      "            \"pubkeyhash\": \"94367fb498fa83c3907c7568e66e3186da9fb937\",\n",
      "            \"xprv\": \"tprv8kJPa6TmhymeJ6zBSHPXdJ6toNRZRFaYs52dwPCg4AAKdeFENetcEFpS3TVPri1LyGDRZ2mC7upjeM1eLdZhMPG5oKcidsSvVuR8UarSshZ\",\n",
      "            \"xpub\": \"tpubDGzRiWW1rMTKBa1yKw482hm1NPwVaamTSNdRDuEyURxiU8W113iCQkSJDaNZGG1SUdv2nNHBUKhE5WGjEYkCLoZKCNRP4XvHMrmw9vPBoro\"\n",
      "        },\n",
      "        {\n",
      "            \"address\": \"n1vF5RSzaW2jSDJw3uZb4WHWeMGxnTFzgc\",\n",
      "            \"index\": 1,\n",
      "            \"path\": \"m/44'/1'/0'/0/1\",\n",
      "            \"privkey\": \"cVoTBSRNoyQ2BfhFs6VT15vnF8q4yWhyVyZWD26bVDKmfJwEfrbD\",\n",
      "            \"pubkey\": \"025a84c0e021bdf16699bb52aa146ea1c6493d535d492625679c6d83ad0143fd06\",\n",
      "            \"pubkeyhash\": \"dfca17859558e0e3dd0691a652becb53e3e09956\",\n",
      "            \"xprv\": \"tprv8kJPa6TmhymeJzyeUWo9Ad3rRszQzSf5guiK6SKiwqVXD1frYtGNxaEz6Ke89MnBd18j9D8x51CmKzLVhfsX7f8pMeUYRDDkpZCAnGwQpMT\",\n",
      "            \"xpub\": \"tpubDGzRiWW1rMTKCU1SNATja2hxzuWM9mqzGDK6NxN2N7Hv3VvdBH5y94rrGRQsUt8Hy1Nz2iSp9dqYRsVWdu2PbX61FYYoZJieRVbWRcSG9yb\"\n",
      "        },\n",
      "        {\n",
      "            \"address\": \"mqa5zRBxNWm1sJ36CesEh4BBAQjjR5J7nJ\",\n",
      "            \"index\": 2,\n",
      "            \"path\": \"m/44'/1'/0'/0/2\",\n",
      "            \"privkey\": \"cMke5zkhxbGKwUNkD77T7dswiwEC1T3C9yDxG98i2qWwZsE6s5Uh\",\n",
      "            \"pubkey\": \"028341cb6e703ce5431b347441f5eae4fe3e94dacd22266f33d02092c3e04e2aea\",\n",
      "            \"pubkeyhash\": \"6e48ee11e635322bad4c0bf8a67c7ee19adfe9bd\",\n",
      "            \"xprv\": \"tprv8kJPa6TmhymePYgREFgfsXHb2cv1vG9BEmM6PE2Ew2tibMoUNKbmuqhNTq2wVoqHNKFrNMFgaoebjXiiKF6DNzwb9Mg3ZkjKHb48PbYKSed\",\n",
      "            \"xpub\": \"tpubDGzRiWW1rMTKH1iD7uMGGvwhbeRx5bL5p4wsfk4YMJh7Rr4EziRN6LKEdxwPeJH8A5MJQTJzj32iJfTvmoravFGNz1khGgJtVq7CZpMGXP4\"\n",
      "        }\n",
      "    ],\n",
      "    \"eth\": [\n",
      "        {\n",
      "            \"address\": \"0xC7edFeE06E2076B2581f4FAdEEF706C5Be28d6a8\",\n",
      "            \"index\": 0,\n",
      "            \"path\": \"m/44'/60'/0'/0/0\",\n",
      "            \"privkey\": \"0xd2bbc549807d0227acf0a48d96bf8065019731ac0d8949e6eee3ac718d41f6fd\",\n",
      "            \"pubkey\": \"03f5428dda50b3a8d70d7de7a8b2bc63fb2794e6cb639909c707601bd7a8800529\",\n",
      "            \"pubkeyhash\": \"e8fdfbedb7430e706d01d09eb3c36b1f3adccc9e\",\n",
      "            \"xprv\": \"xprvA2yCW7ScWbScMg58HLLV3Wsq249U83v8qiDu3ULy5DV9xWsbYcTjYtzNEWnoq2oiFTqFR65FZu6aXmbwhUy9wZVSHJENAXfZyoU1BhWNn2K\",\n",
      "            \"xpub\": \"xpub6FxYucyWLxzuaA9bPMsVQepZa5yxXWdzCw9VqrkadZ28qKCk69mz6hJr5p2XP25UstCV3DNxXByNAhHfdLByXDS41W3vLAVmxzB4pyFD8GL\"\n",
      "        },\n",
      "        {\n",
      "            \"address\": \"0xB5eFd7004ab679C28331C6c1373c46f7d3999Bb9\",\n",
      "            \"index\": 1,\n",
      "            \"path\": \"m/44'/60'/0'/0/1\",\n",
      "            \"privkey\": \"0x3b7ac1c4c28e11784a24cf5a363d55020bbe536541a43f043178d5a6ae6cdbd7\",\n",
      "            \"pubkey\": \"02e158fc9047d24046508224b1ed72f7c7c12f45bfd61e9717d7c39b7c18b40d76\",\n",
      "            \"pubkeyhash\": \"142a982b3966f18c26c0644939a2c8afe07f00d2\",\n",
      "            \"xprv\": \"xprvA2yCW7ScWbScPZZcaoXZW4qGWaGmhE5dVnHnwUN3h3MZZX7PbHvxWWebx9tqacMLuXWiEDrvdNR1bxwakBNhDFbHo1KW2bbcFeuq7uq4JS9\",\n",
      "            \"xpub\": \"xpub6FxYucyWLxzuc3e5gq4ZsCn14c7G6goUs1DPjrmfFNtYSKSY8qFD4Jy5oSBeu9ezxstbB7rnTDzfobfYvYcSGwDsTTUQz7W6ZrUHbcKDeJr\"\n",
      "        },\n",
      "        {\n",
      "            \"address\": \"0x52f820e661cbB14A33CC4dB48422E012F7675fF1\",\n",
      "            \"index\": 2,\n",
      "            \"path\": \"m/44'/60'/0'/0/2\",\n",
      "            \"privkey\": \"0xc0e80350772e30781d20e3aa3b3544ab389d42d4e973c309288e58eca9f58383\",\n",
      "            \"pubkey\": \"02b0abe23111cde49c72bbe24fa1e38e403e518eaa6723cc335f8cbd4aa0498c92\",\n",
      "            \"pubkeyhash\": \"e439b784c4be448a5f9f4349a9a367a5be685cd4\",\n",
      "            \"xprv\": \"xprvA2yCW7ScWbScTZBudvCo1Pd1JFvkfyP1nM229GxVpeDq2YiGEKLuWQJSyg6JhoP2WZGxzuFwAwFa4ii6krjWnipdKakYVz4tGehmrtEoytA\",\n",
      "            \"xpub\": \"xpub6FxYucyWLxzug3GNjwjoNXZjrHmF5S6s9ZwcwfN7NykouM3QmrfA4CcvpvzvSwaWtcaffVZTuWcMihdjCR6bRYQDhep3ALzvqXYyorszmP1\"\n",
      "        }\n",
      "    ]\n",
      "}\n"
     ]
    }
   ],
   "source": [
    "coins = {'eth':derive_wallets(phrase=mnemonic,coin=ETH,numderive=3),'btc-test': derive_wallets(mnem=mnemonic,coin=BTCTEST,numderive=3)}\n",
    "print(json.dumps(coins, indent=4, sort_keys=True))"
   ]
  },
  {
   "cell_type": "code",
   "execution_count": 126,
   "metadata": {},
   "outputs": [],
   "source": [
    "eth_key = coins['eth'][1]['privkey']\n",
    "btc_key = coins['btc-test'][0]['privkey']"
   ]
  },
  {
   "cell_type": "code",
   "execution_count": 127,
   "metadata": {},
   "outputs": [],
   "source": [
    "def priv_key_to_account(coin, priv_key):\n",
    "    global account\n",
    "    if coin == 'eth':\n",
    "        account=Account.privateKeyToAccount(priv_key)\n",
    "    else:\n",
    "        account=PrivateKeyTestnet(priv_key)\n",
    "    return account"
   ]
  },
  {
   "cell_type": "code",
   "execution_count": 131,
   "metadata": {},
   "outputs": [
    {
     "data": {
      "text/plain": [
       "<eth_account.signers.local.LocalAccount at 0x10fe6ad90>"
      ]
     },
     "execution_count": 131,
     "metadata": {},
     "output_type": "execute_result"
    }
   ],
   "source": [
    "priv_key_to_account(ETH,eth_key)"
   ]
  },
  {
   "cell_type": "code",
   "execution_count": 139,
   "metadata": {},
   "outputs": [
    {
     "data": {
      "text/plain": [
       "<PrivateKeyTestnet: mu2db6FcX5MA339FSUzpgVkof8YWCu4k8t>"
      ]
     },
     "execution_count": 139,
     "metadata": {},
     "output_type": "execute_result"
    }
   ],
   "source": [
    "priv_key_to_account(BTCTEST,btc_key)"
   ]
  },
  {
   "cell_type": "code",
   "execution_count": 140,
   "metadata": {},
   "outputs": [],
   "source": [
    "def create_tx(coin,account,recipient,amount):\n",
    "    global tx_data\n",
    "    if coin =='eth':\n",
    "        gasEstimate = w3.eth.estimateGas(\n",
    "            {\"from\": account.address, \"to\": recipient, \"value\": amount}\n",
    "        )\n",
    "        tx_data= {\n",
    "            \"from\": account.address,\n",
    "            \"to\": recipient,\n",
    "            \"value\": amount,\n",
    "            \"gasPrice\": w3.eth.gasPrice,\n",
    "            \"gas\": gasEstimate,\n",
    "            \"nonce\": w3.eth.getTransactionCount(account.address),\n",
    "        }\n",
    "        return tx_data\n",
    "    else:\n",
    "        tx_data = PrivateKeyTestnet.prepare_transaction(account.address, [(recipient, amount, BTC)])\n",
    "        return tx_data"
   ]
  },
  {
   "cell_type": "code",
   "execution_count": 141,
   "metadata": {},
   "outputs": [
    {
     "data": {
      "text/plain": [
       "'{\"unspents\":[{\"amount\":3602698,\"confirmations\":3,\"script\":\"76a91494367fb498fa83c3907c7568e66e3186da9fb93788ac\",\"txid\":\"3b2a4482e7c093f73c8c3c0c9b8d75745e9af762a38f2d643dd08533ef6f52c6\",\"txindex\":1,\"type\":\"p2pkh\",\"vsize\":148,\"segwit\":false},{\"amount\":10000,\"confirmations\":3,\"script\":\"76a91494367fb498fa83c3907c7568e66e3186da9fb93788ac\",\"txid\":\"3b2a4482e7c093f73c8c3c0c9b8d75745e9af762a38f2d643dd08533ef6f52c6\",\"txindex\":0,\"type\":\"p2pkh\",\"vsize\":148,\"segwit\":false}],\"outputs\":[[\"mu2db6FcX5MA339FSUzpgVkof8YWCu4k8t\",10000],[\"mu2db6FcX5MA339FSUzpgVkof8YWCu4k8t\",3595218]]}'"
      ]
     },
     "execution_count": 141,
     "metadata": {},
     "output_type": "execute_result"
    }
   ],
   "source": [
    "create_tx(BTCTEST,account,'mu2db6FcX5MA339FSUzpgVkof8YWCu4k8t',0.0001)"
   ]
  },
  {
   "cell_type": "markdown",
   "metadata": {},
   "source": [
    "Was able to get everything to run and transact, except kept receiving an error message with the send ETH coin before...  not sure why but SO close!"
   ]
  },
  {
   "cell_type": "code",
   "execution_count": 1,
   "metadata": {},
   "outputs": [],
   "source": [
    "#create_tx(ETH,account,'0x52f820e661cbB14A33CC4dB48422E012F7675fF1',0.0001)"
   ]
  },
  {
   "cell_type": "code",
   "execution_count": 106,
   "metadata": {},
   "outputs": [],
   "source": [
    "def send_tx(coin, account, recipient, amount):\n",
    "    if coin == ETH:\n",
    "        tx = create_tx(coin,account, recipient, amount)\n",
    "        signed_tx = account.sign_transaction(tx)\n",
    "        result = w3.eth.sendRawTransaction(signed_tx.rawTransaction)\n",
    "        print(result.hex())\n",
    "        return result.hex()\n",
    "    else:\n",
    "        tx_data = create_tx(coin,account,recipient,amount)\n",
    "        signed = account.sign_transaction(tx_data)\n",
    "        NetworkAPI.broadcast_tx_testnet(signed)\n",
    "        return signed"
   ]
  },
  {
   "cell_type": "code",
   "execution_count": 107,
   "metadata": {},
   "outputs": [
    {
     "data": {
      "text/plain": [
       "'01000000027ae7880c6017700d68a4fe0a01f64d6c1559e9237ea5cbc414741673c86b2229010000006a4730440220575d3222f98508e0d6c7985e8db1bed8624d059e2082ada1990d58330db7bc3202204b34d183d36e998ce1d2418165ef4d368d085819588c53630600f1562b5d55910121027681403d7aa5226d000575c7c1b4641a2300432c96b33574a96ef371cde7ee9affffffff7ae7880c6017700d68a4fe0a01f64d6c1559e9237ea5cbc414741673c86b2229000000006a4730440220682753473bd9458a077d8fd5860e90e3be5cd82ddaedde957a5a39fb95dc39f202207d61996658b8bd7ec51d121b73e7cc99d1a1a00ffb0a1af59a323fb38243d5a60121027681403d7aa5226d000575c7c1b4641a2300432c96b33574a96ef371cde7ee9affffffff0210270000000000001976a91494367fb498fa83c3907c7568e66e3186da9fb93788ac0af93600000000001976a91494367fb498fa83c3907c7568e66e3186da9fb93788ac00000000'"
      ]
     },
     "execution_count": 107,
     "metadata": {},
     "output_type": "execute_result"
    }
   ],
   "source": [
    "send_tx(BTCTEST,account,'mu2db6FcX5MA339FSUzpgVkof8YWCu4k8t',0.0001)"
   ]
  },
  {
   "cell_type": "code",
   "execution_count": 101,
   "metadata": {},
   "outputs": [
    {
     "data": {
      "text/plain": [
       "<PrivateKeyTestnet: mu2db6FcX5MA339FSUzpgVkof8YWCu4k8t>"
      ]
     },
     "execution_count": 101,
     "metadata": {},
     "output_type": "execute_result"
    }
   ],
   "source": [
    "account"
   ]
  },
  {
   "cell_type": "code",
   "execution_count": null,
   "metadata": {},
   "outputs": [],
   "source": []
  }
 ],
 "metadata": {
  "kernelspec": {
   "display_name": "Python 3",
   "language": "python",
   "name": "python3"
  },
  "language_info": {
   "codemirror_mode": {
    "name": "ipython",
    "version": 3
   },
   "file_extension": ".py",
   "mimetype": "text/x-python",
   "name": "python",
   "nbconvert_exporter": "python",
   "pygments_lexer": "ipython3",
   "version": "3.7.4"
  }
 },
 "nbformat": 4,
 "nbformat_minor": 4
}
